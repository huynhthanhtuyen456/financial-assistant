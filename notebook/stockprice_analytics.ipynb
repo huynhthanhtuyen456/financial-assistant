{
 "cells": [
  {
   "cell_type": "code",
   "execution_count": 2,
   "id": "c80e386e",
   "metadata": {},
   "outputs": [],
   "source": [
    "import pandas as pd\n",
    "import requests\n",
    "import matplotlib.pyplot as plt\n",
    "import datetime"
   ]
  },
  {
   "cell_type": "code",
   "execution_count": 4,
   "id": "4a3d171f",
   "metadata": {},
   "outputs": [
    {
     "data": {
      "text/html": [
       "<div>\n",
       "<style scoped>\n",
       "    .dataframe tbody tr th:only-of-type {\n",
       "        vertical-align: middle;\n",
       "    }\n",
       "\n",
       "    .dataframe tbody tr th {\n",
       "        vertical-align: top;\n",
       "    }\n",
       "\n",
       "    .dataframe thead th {\n",
       "        text-align: right;\n",
       "    }\n",
       "</style>\n",
       "<table border=\"1\" class=\"dataframe\">\n",
       "  <thead>\n",
       "    <tr style=\"text-align: right;\">\n",
       "      <th></th>\n",
       "      <th>t</th>\n",
       "      <th>o</th>\n",
       "      <th>h</th>\n",
       "      <th>l</th>\n",
       "      <th>c</th>\n",
       "      <th>v</th>\n",
       "      <th>symbol</th>\n",
       "      <th>s</th>\n",
       "    </tr>\n",
       "  </thead>\n",
       "  <tbody>\n",
       "    <tr>\n",
       "      <th>0</th>\n",
       "      <td>1735776000</td>\n",
       "      <td>131.61</td>\n",
       "      <td>131.79</td>\n",
       "      <td>129.54</td>\n",
       "      <td>131.18</td>\n",
       "      <td>3172800</td>\n",
       "      <td>FPT</td>\n",
       "      <td>ok</td>\n",
       "    </tr>\n",
       "    <tr>\n",
       "      <th>1</th>\n",
       "      <td>1735862400</td>\n",
       "      <td>130.58</td>\n",
       "      <td>130.58</td>\n",
       "      <td>128.59</td>\n",
       "      <td>128.59</td>\n",
       "      <td>4336100</td>\n",
       "      <td>FPT</td>\n",
       "      <td>ok</td>\n",
       "    </tr>\n",
       "    <tr>\n",
       "      <th>2</th>\n",
       "      <td>1736121600</td>\n",
       "      <td>128.68</td>\n",
       "      <td>129.63</td>\n",
       "      <td>128.07</td>\n",
       "      <td>128.86</td>\n",
       "      <td>3467100</td>\n",
       "      <td>FPT</td>\n",
       "      <td>ok</td>\n",
       "    </tr>\n",
       "    <tr>\n",
       "      <th>3</th>\n",
       "      <td>1736208000</td>\n",
       "      <td>129.02</td>\n",
       "      <td>130.58</td>\n",
       "      <td>129.02</td>\n",
       "      <td>129.54</td>\n",
       "      <td>3449700</td>\n",
       "      <td>FPT</td>\n",
       "      <td>ok</td>\n",
       "    </tr>\n",
       "    <tr>\n",
       "      <th>4</th>\n",
       "      <td>1736294400</td>\n",
       "      <td>129.46</td>\n",
       "      <td>129.46</td>\n",
       "      <td>127.82</td>\n",
       "      <td>127.99</td>\n",
       "      <td>3879900</td>\n",
       "      <td>FPT</td>\n",
       "      <td>ok</td>\n",
       "    </tr>\n",
       "  </tbody>\n",
       "</table>\n",
       "</div>"
      ],
      "text/plain": [
       "            t       o       h       l       c        v symbol   s\n",
       "0  1735776000  131.61  131.79  129.54  131.18  3172800    FPT  ok\n",
       "1  1735862400  130.58  130.58  128.59  128.59  4336100    FPT  ok\n",
       "2  1736121600  128.68  129.63  128.07  128.86  3467100    FPT  ok\n",
       "3  1736208000  129.02  130.58  129.02  129.54  3449700    FPT  ok\n",
       "4  1736294400  129.46  129.46  127.82  127.99  3879900    FPT  ok"
      ]
     },
     "execution_count": 4,
     "metadata": {},
     "output_type": "execute_result"
    }
   ],
   "source": [
    "start_time = datetime.datetime(2025, 1, 1).timestamp()\n",
    "end_time = datetime.datetime(2025, 8, 29).timestamp()\n",
    "r = requests.get('http://localhost/api/v1/stock?from={}&to={}&resolution=1D&symbol=FPT'.format(int(start_time), int(end_time)))\n",
    "x = r.json()\n",
    "df = pd.DataFrame(x)\n",
    "df.head()"
   ]
  },
  {
   "cell_type": "code",
   "execution_count": 5,
   "id": "b5de64fa",
   "metadata": {},
   "outputs": [
    {
     "name": "stdout",
     "output_type": "stream",
     "text": [
      "Date Range: (Timestamp('2025-01-02 00:00:00'), Timestamp('2025-08-19 00:00:00'))\n",
      "Open Price: {'min': np.float64(84.41), 'max': np.float64(133.0), 'mean': np.float64(109.87754838709675)}\n",
      "High Price: {'min': np.float64(92.34), 'max': np.float64(134.63), 'mean': np.float64(110.9707741935484)}\n",
      "Low Price: {'min': np.float64(84.41), 'max': np.float64(132.39), 'mean': np.float64(108.62316129032256)}\n",
      "Close Price: {'min': np.float64(90.71), 'max': np.float64(133.17), 'mean': np.float64(109.69509677419353)}\n",
      "Volume: {'min': np.int64(1005400), 'max': np.int64(21845500), 'mean': np.float64(6722056.129032258)}\n"
     ]
    }
   ],
   "source": [
    "# Basic analytics for stock price from the dataset\n",
    "\n",
    "# Convert timestamp to datetime for better readability\n",
    "df['date'] = pd.to_datetime(df['t'], unit='s')\n",
    "\n",
    "# Calculate analytics\n",
    "analytics = {\n",
    "    'Date Range': (df['date'].min(), df['date'].max()),\n",
    "    'Open Price': {'min': df['o'].min(), 'max': df['o'].max(), 'mean': df['o'].mean()},\n",
    "    'High Price': {'min': df['h'].min(), 'max': df['h'].max(), 'mean': df['h'].mean()},\n",
    "    'Low Price': {'min': df['l'].min(), 'max': df['l'].max(), 'mean': df['l'].mean()},\n",
    "    'Close Price': {'min': df['c'].min(), 'max': df['c'].max(), 'mean': df['c'].mean()},\n",
    "    'Volume': {'min': df['v'].min(), 'max': df['v'].max(), 'mean': df['v'].mean()},\n",
    "}\n",
    "\n",
    "for key, value in analytics.items():\n",
    "    print(f\"{key}: {value}\")"
   ]
  },
  {
   "cell_type": "code",
   "execution_count": 6,
   "id": "ed976e33",
   "metadata": {},
   "outputs": [
    {
     "data": {
      "image/png": "[encoded data removed]",
      "text/plain": [
       "<Figure size 1000x600 with 1 Axes>"
      ]
     },
     "metadata": {},
     "output_type": "display_data"
    }
   ],
   "source": [
    "import numpy as np\n",
    "\n",
    "# Visualize analytics summary as bar plots\n",
    "\n",
    "# Prepare data for plotting\n",
    "\n",
    "metrics = ['Open Price', 'High Price', 'Low Price', 'Close Price', 'Volume']\n",
    "stat_names = ['min', 'mean', 'max']\n",
    "\n",
    "data = {stat: [analytics[m][stat] for m in metrics] for stat in stat_names}\n",
    "\n",
    "x = np.arange(len(metrics))\n",
    "width = 0.2\n",
    "\n",
    "fig, ax = plt.subplots(figsize=(10, 6))\n",
    "rects1 = ax.bar(x - width, data['min'], width, label='Min')\n",
    "rects2 = ax.bar(x, data['mean'], width, label='Mean')\n",
    "rects3 = ax.bar(x + width, data['max'], width, label='Max')\n",
    "\n",
    "ax.set_ylabel('Value')\n",
    "ax.set_title('Stock Analytics Summary')\n",
    "ax.set_xticks(x)\n",
    "ax.set_xticklabels(metrics)\n",
    "ax.legend()\n",
    "plt.tight_layout()\n",
    "plt.show()"
   ]
  },
  {
   "cell_type": "code",
   "execution_count": null,
   "id": "25d77126",
   "metadata": {},
   "outputs": [],
   "source": []
  }
 ],
 "metadata": {
  "kernelspec": {
   "display_name": ".venv",
   "language": "python",
   "name": "python3"
  },
  "language_info": {
   "codemirror_mode": {
    "name": "ipython",
    "version": 3
   },
   "file_extension": ".py",
   "mimetype": "text/x-python",
   "name": "python",
   "nbconvert_exporter": "python",
   "pygments_lexer": "ipython3",
   "version": "3.9.6"
  }
 },
 "nbformat": 4,
 "nbformat_minor": 5
}
